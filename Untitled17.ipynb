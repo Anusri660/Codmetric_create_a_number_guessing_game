{
  "nbformat": 4,
  "nbformat_minor": 0,
  "metadata": {
    "colab": {
      "provenance": []
    },
    "kernelspec": {
      "name": "python3",
      "display_name": "Python 3"
    },
    "language_info": {
      "name": "python"
    }
  },
  "cells": [
    {
      "cell_type": "code",
      "execution_count": 4,
      "metadata": {
        "colab": {
          "base_uri": "https://localhost:8080/"
        },
        "id": "fEQh6jPtrFR0",
        "outputId": "75093e83-9aed-4449-ad69-05f5facd71a8"
      },
      "outputs": [
        {
          "output_type": "stream",
          "name": "stdout",
          "text": [
            " Welcome to the Number Guessing Game!\n",
            "I'm thinking of a number between 1 and 20...\n",
            " Enter your guess: 2\n",
            " Too low! Try again.\n",
            " Enter your guess: 3\n",
            " Too low! Try again.\n",
            " Enter your guess: 4\n",
            " Too low! Try again.\n",
            " Enter your guess: 5\n",
            " Too low! Try again.\n",
            " Enter your guess: 6\n",
            " Too low! Try again.\n",
            " Enter your guess: 1\n",
            " Too low! Try again.\n",
            " Enter your guess: 7\n",
            " Too low! Try again.\n",
            " Enter your guess: 8\n",
            " Too low! Try again.\n",
            " Enter your guess: 9\n",
            " Too low! Try again.\n",
            " Enter your guess: 10\n",
            " Too low! Try again.\n",
            " Enter your guess: 11\n",
            " Too low! Try again.\n",
            " Enter your guess: 12\n",
            " Too low! Try again.\n",
            " Enter your guess: 13\n",
            " Too low! Try again.\n",
            " Enter your guess: 14\n",
            " Too low! Try again.\n",
            " Enter your guess: 15\n",
            " Too low! Try again.\n",
            " Enter your guess: 16\n",
            " Correct! You guessed it in 16 attempts.\n"
          ]
        }
      ],
      "source": [
        "import random\n",
        "\n",
        "def number_guessing_game():\n",
        "    print(\" Welcome to the Number Guessing Game!\")\n",
        "    print(\"I'm thinking of a number between 1 and 20...\")\n",
        "\n",
        "    # Generate random number\n",
        "    secret_number = random.randint(1, 20)\n",
        "    attempts = 0\n",
        "\n",
        "    while True:\n",
        "        try:\n",
        "            guess = int(input(\" Enter your guess: \"))\n",
        "            attempts += 1\n",
        "\n",
        "            if guess < 1 or guess > 100:\n",
        "                print(\"Please guess a number between 1 and 2017.\")\n",
        "            elif guess < secret_number:\n",
        "                print(\" Too low! Try again.\")\n",
        "            elif guess > secret_number:\n",
        "                print(\" Too high! Try again.\")\n",
        "            else:\n",
        "                print(f\" Correct! You guessed it in {attempts} attempts.\")\n",
        "                break\n",
        "        except ValueError:\n",
        "            print(\" Invalid input. Please enter a valid number.\")\n",
        "\n",
        "number_guessing_game()\n"
      ]
    }
  ]
}